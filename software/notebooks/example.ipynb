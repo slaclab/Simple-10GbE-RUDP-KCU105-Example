{
 "cells": [
  {
   "cell_type": "code",
   "execution_count": 1,
   "id": "afe95d27-a75e-4e4b-a273-5e7348c4f986",
   "metadata": {},
   "outputs": [],
   "source": [
    "# Setup the library\n",
    "import os\n",
    "top_level=f'{os.getcwd()}/..'\n",
    "import time\n",
    "import math\n",
    "import pyrogue as pr\n",
    "import numpy as np\n",
    "import matplotlib.pyplot as plt"
   ]
  },
  {
   "cell_type": "code",
   "execution_count": 2,
   "id": "73a91cdc-f4b6-4051-accd-fcfa3f258f57",
   "metadata": {},
   "outputs": [
    {
     "name": "stdout",
     "output_type": "stream",
     "text": [
      "Connected to Root at localhost:9099\n"
     ]
    }
   ],
   "source": [
    "# Create a Virtual Client to connect to the Virtual Server via Zeromq\n",
    "client = pr.interfaces.VirtualClient(addr='localhost', port=9099)"
   ]
  },
  {
   "cell_type": "code",
   "execution_count": 3,
   "id": "4b684e4b-b333-4ce0-83c4-deec2eb1bf3b",
   "metadata": {},
   "outputs": [
    {
     "name": "stdout",
     "output_type": "stream",
     "text": [
      "###################################################\n",
      "#             Firmware Version                    #\n",
      "###################################################\n",
      "Path         = Root.Core.AxiVersion\n",
      "FwVersion    = 0x2170000\n",
      "UpTime       = 0:02:57\n",
      "GitHash      = f4e4698ac179cdc1b6528721daa61c9875ef9949\n",
      "XilinxDnaId  = 0x40020001814dbd853510e585\n",
      "FwTarget     = Simple10GbeRudpKcu105Example\n",
      "BuildEnv     = Vivado v2024.2\n",
      "BuildServer  = rdsrv418 (Ubuntu 22.04.5 LTS)\n",
      "BuildDate    = Tue Apr 15 01:03:43 PM PDT 2025\n",
      "Builder      = ruckman\n",
      "###################################################\n"
     ]
    }
   ],
   "source": [
    "print ( '###################################################')\n",
    "print ( '#             Firmware Version                    #')\n",
    "print ( '###################################################')\n",
    "print(client.Root.Core.AxiVersion.PrintStatus())\n",
    "print ( '###################################################')"
   ]
  },
  {
   "cell_type": "code",
   "execution_count": 4,
   "id": "b12fce2e-e784-425a-91bd-2fea434ed8b4",
   "metadata": {},
   "outputs": [
    {
     "name": "stdout",
     "output_type": "stream",
     "text": [
      "Bandwidth (current): 9845.6 Mbps\n",
      "Bandwidth (minimum): 9391.9 Mbps\n",
      "Bandwidth (maximum): 9845.6 Mbps\n"
     ]
    }
   ],
   "source": [
    "# Start the streaming\n",
    "client.Root.App.AppTx.SendFrame.set(0xFFFF)\n",
    "\n",
    "# Reset the AXI Stream Monitoring\n",
    "client.Root.Core.AxisMon.CntRst()\n",
    "\n",
    "# Allow the FW integrators to settle after reset\n",
    "time.sleep(3.0)\n",
    "\n",
    "# Print the Bandwidth stats\n",
    "print( f'Bandwidth (current): {client.Root.Core.AxisMon.Ch[0].Bandwidth.get():.1f} Mbps' )\n",
    "print( f'Bandwidth (minimum): {client.Root.Core.AxisMon.Ch[0].BandwidthMin.get():.1f} Mbps' )\n",
    "print( f'Bandwidth (maximum): {client.Root.Core.AxisMon.Ch[0].BandwidthMax.get():.1f} Mbps' )"
   ]
  }
 ],
 "metadata": {
  "kernelspec": {
   "display_name": "Python 3 (ipykernel)",
   "language": "python",
   "name": "python3"
  },
  "language_info": {
   "codemirror_mode": {
    "name": "ipython",
    "version": 3
   },
   "file_extension": ".py",
   "mimetype": "text/x-python",
   "name": "python",
   "nbconvert_exporter": "python",
   "pygments_lexer": "ipython3",
   "version": "3.9.18"
  }
 },
 "nbformat": 4,
 "nbformat_minor": 5
}
